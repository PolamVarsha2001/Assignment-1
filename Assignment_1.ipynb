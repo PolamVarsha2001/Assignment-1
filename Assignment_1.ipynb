{
  "nbformat": 4,
  "nbformat_minor": 0,
  "metadata": {
    "colab": {
      "name": "Assignment-1.ipynb",
      "provenance": [],
      "authorship_tag": "ABX9TyP0p4Y0fI+PQlwC6mbgjT9U",
      "include_colab_link": true
    },
    "kernelspec": {
      "name": "python3",
      "display_name": "Python 3"
    }
  },
  "cells": [
    {
      "cell_type": "markdown",
      "metadata": {
        "id": "view-in-github",
        "colab_type": "text"
      },
      "source": [
        "<a href=\"https://colab.research.google.com/github/PolamVarsha2001/Assignment-1/blob/master/Assignment_1.ipynb\" target=\"_parent\"><img src=\"https://colab.research.google.com/assets/colab-badge.svg\" alt=\"Open In Colab\"/></a>"
      ]
    },
    {
      "cell_type": "code",
      "metadata": {
        "id": "M-zlz6NRqz3g",
        "colab_type": "code",
        "colab": {
          "base_uri": "https://localhost:8080/",
          "height": 52
        },
        "outputId": "7b4f8880-de50-450f-bf89-1cc796ec58da"
      },
      "source": [
        "year=int(input(\"Enter Year : \"))\n",
        "rem=year%12\n",
        "d={0:\"monkey\",1:\"rooster\",2:\"dog\",3:\"pig\",4:\"rat\",5:\"ox\",6:\"tiger\",7:\"rabbit\",8:\"dragon\",9:\"snake\",10:\"horse\",11:\"sheep\"}\n",
        "print(d[rem])"
      ],
      "execution_count": 3,
      "outputs": [
        {
          "output_type": "stream",
          "text": [
            "Enter Year : 14\n",
            "dog\n"
          ],
          "name": "stdout"
        }
      ]
    },
    {
      "cell_type": "code",
      "metadata": {
        "id": "nwzura7Uw74s",
        "colab_type": "code",
        "colab": {
          "base_uri": "https://localhost:8080/",
          "height": 70
        },
        "outputId": "c6e5906c-8b05-418f-bec6-7edc4b558892"
      },
      "source": [
        "a=int(input(\"Distance to be Travel: \"))\n",
        "b=int(input(\"Weight of the goods: \"))\n",
        "if a>=500:\n",
        "  if b>=100:\n",
        "    print(\"Amount to be charged: \"+str(a*5))\n",
        "  elif 10<=b<100:\n",
        "    print(\"Amount to be charged: \"+str(a*6))\n",
        "  elif b<10:\n",
        "    print(\"Amount to be charged: \"+str(a*7))\n",
        "else:\n",
        "  if b>=100:\n",
        "    print(\"Amount to be charged: \"+str(a*8))\n",
        "  else:\n",
        "    print(\"Amount to be charged: \"+str(a*5))"
      ],
      "execution_count": 4,
      "outputs": [
        {
          "output_type": "stream",
          "text": [
            "Distance to be Travel: 520\n",
            "Weight of the goods: 100\n",
            "Amount to be charged: 2600\n"
          ],
          "name": "stdout"
        }
      ]
    },
    {
      "cell_type": "code",
      "metadata": {
        "id": "trBofXzlzUw_",
        "colab_type": "code",
        "colab": {
          "base_uri": "https://localhost:8080/",
          "height": 70
        },
        "outputId": "f39006cc-e248-4309-dbbc-fa6e3d8ec9c4"
      },
      "source": [
        "a=input(\"Type of Seat: \")\n",
        "b=input(\"Payment Mode: \")\n",
        "if a==\"stalls\":\n",
        "  if b==\"cash\":\n",
        "    print(625-(625*0.1))\n",
        "  elif b==\"credit\":\n",
        "    print(625-(625*0.05))\n",
        "  else:\n",
        "      print(\"sorry!Wrong Input\")\n",
        "elif a==\"circle\":\n",
        "  if b==\"cash\":\n",
        "    print(750-(750*0.1))\n",
        "  elif b==\"credit\":\n",
        "    print(750-(750*0.05))\n",
        "  else:\n",
        "    print(\"sorry!Wrong Input\")\n",
        "elif a==\"upper class\":\n",
        "  if b==\"cash\":\n",
        "    print(850-(850*0.1))\n",
        "  elif b==\"credit\":\n",
        "    print(850-(850*0.05))\n",
        "  else:\n",
        "   print(\"sorry!Wrong Input\")\n",
        "elif a==\"box\":\n",
        "  if b==\"cash\":\n",
        "    print(1000-(1000*0.1))\n",
        "  elif b==\"credit\":\n",
        "    print(1000-(1000*0.05))\n",
        "else:\n",
        "  print(\"sorry!Wrong Input\")"
      ],
      "execution_count": 9,
      "outputs": [
        {
          "output_type": "stream",
          "text": [
            "Type of Seat: circle\n",
            "Payment Mode: cash\n",
            "675.0\n"
          ],
          "name": "stdout"
        }
      ]
    },
    {
      "cell_type": "code",
      "metadata": {
        "id": "RVm1cD9q02KD",
        "colab_type": "code",
        "colab": {
          "base_uri": "https://localhost:8080/",
          "height": 87
        },
        "outputId": "84803504-af51-4bf9-abe7-2f197c34afc9"
      },
      "source": [
        "m=int(input(\"Weight of water in kilograms:\"))\n",
        "i=int(input(\"intital temperature:\"))\n",
        "f=int(input(\"final temperature:\"))\n",
        "Q=m*(f-i)*4148\n",
        "print(Q)"
      ],
      "execution_count": 10,
      "outputs": [
        {
          "output_type": "stream",
          "text": [
            "Weight of water in kilograms:100\n",
            "intital temperature:50\n",
            "final temperature:90\n",
            "16592000\n"
          ],
          "name": "stdout"
        }
      ]
    },
    {
      "cell_type": "code",
      "metadata": {
        "id": "cVZdG3o_1YAT",
        "colab_type": "code",
        "colab": {
          "base_uri": "https://localhost:8080/",
          "height": 52
        },
        "outputId": "7394e39c-b1fa-4554-b682-a85a2d1a53c6"
      },
      "source": [
        "m=input(\"Enter month:\")\n",
        "if m==\"December\" or m==\"January\" or m==\"February\":\n",
        "  print(str(\"Winter\"))\n",
        "elif m==\"March\" or m==\"April\" or m==\"May\":\n",
        "  print(str(\"Spring\"))\n",
        "elif m==\"June\" or m==\"July\" or m==\"August\":\n",
        "  print(str(\"Summer\"))\n",
        "elif m==\"September\" or m==\"October\" or m==\"November\":\n",
        "  print(str(\"Autumn\"))\n",
        "else:\n",
        "  print(\"Sorry!You have given wrong input\")"
      ],
      "execution_count": 12,
      "outputs": [
        {
          "output_type": "stream",
          "text": [
            "Enter month:January\n",
            "Winter\n"
          ],
          "name": "stdout"
        }
      ]
    },
    {
      "cell_type": "code",
      "metadata": {
        "id": "87l2agoh1tmk",
        "colab_type": "code",
        "colab": {
          "base_uri": "https://localhost:8080/",
          "height": 87
        },
        "outputId": "de1bb220-0dc3-44e6-f472-50be3a5ee629"
      },
      "source": [
        "w=float(input(\"Enter weight in pounds:\"))\n",
        "h=float(input(\"Enter height in inches:\"))\n",
        "w=w*0.45359237\n",
        "h=h*0.0254\n",
        "x=w/(h*h)\n",
        "print(\"BMI:\"+str(x))\n",
        "if x<18.5:\n",
        "  print(\"Person is underweight\")\n",
        "elif 18.5<=x<25.0:\n",
        "  print(\"Person is Normal\")\n",
        "elif 25.0<=x<35.0:\n",
        "  print(\"Person is overweight\")\n",
        "else:\n",
        "  print(\"Person is obese\")"
      ],
      "execution_count": 15,
      "outputs": [
        {
          "output_type": "stream",
          "text": [
            "Enter weight in pounds:50\n",
            "Enter height in inches:240\n",
            "BMI:0.6103034545478813\n",
            "Person is underweight\n"
          ],
          "name": "stdout"
        }
      ]
    },
    {
      "cell_type": "code",
      "metadata": {
        "id": "UqlS48NI4IrR",
        "colab_type": "code",
        "colab": {
          "base_uri": "https://localhost:8080/",
          "height": 52
        },
        "outputId": "fe3fd3f3-ac23-4855-a7da-e03a3de07dc0"
      },
      "source": [
        "n=int(input(\"Enter an interger fro 100 to 1000: \"))\n",
        "sum=0\n",
        "if 100<n<1000:\n",
        "  while(n!=0):\n",
        "    x=int(n%10)\n",
        "    sum=sum+x\n",
        "    n=int(n/10)\n",
        "  print(sum)\n",
        "else:\n",
        "  print(\"Input must be in between 100 and 1000\")"
      ],
      "execution_count": 18,
      "outputs": [
        {
          "output_type": "stream",
          "text": [
            "Enter an interger fro 100 to 1000: 234\n",
            "9\n"
          ],
          "name": "stdout"
        }
      ]
    },
    {
      "cell_type": "code",
      "metadata": {
        "id": "576zk6kDFdGb",
        "colab_type": "code",
        "colab": {
          "base_uri": "https://localhost:8080/",
          "height": 1000
        },
        "outputId": "8a5aaa78-ba24-4dc0-d5bc-1cd19672a8c3"
      },
      "source": [
        "print(\"palindrome numbers from 1 to 1000 are : \")\n",
        "for n in range(1,1000):\n",
        "  temp=n\n",
        "  rev=0\n",
        "  while temp>0:\n",
        "    rem=temp%10\n",
        "    rev=(rev*10)+rem\n",
        "    temp=temp//10\n",
        "  if n==rev:\n",
        "    print(n)"
      ],
      "execution_count": 60,
      "outputs": [
        {
          "output_type": "stream",
          "text": [
            "palindrome numbers from 1 to 1000 are : \n",
            "1\n",
            "2\n",
            "3\n",
            "4\n",
            "5\n",
            "6\n",
            "7\n",
            "8\n",
            "9\n",
            "11\n",
            "22\n",
            "33\n",
            "44\n",
            "55\n",
            "66\n",
            "77\n",
            "88\n",
            "99\n",
            "101\n",
            "111\n",
            "121\n",
            "131\n",
            "141\n",
            "151\n",
            "161\n",
            "171\n",
            "181\n",
            "191\n",
            "202\n",
            "212\n",
            "222\n",
            "232\n",
            "242\n",
            "252\n",
            "262\n",
            "272\n",
            "282\n",
            "292\n",
            "303\n",
            "313\n",
            "323\n",
            "333\n",
            "343\n",
            "353\n",
            "363\n",
            "373\n",
            "383\n",
            "393\n",
            "404\n",
            "414\n",
            "424\n",
            "434\n",
            "444\n",
            "454\n",
            "464\n",
            "474\n",
            "484\n",
            "494\n",
            "505\n",
            "515\n",
            "525\n",
            "535\n",
            "545\n",
            "555\n",
            "565\n",
            "575\n",
            "585\n",
            "595\n",
            "606\n",
            "616\n",
            "626\n",
            "636\n",
            "646\n",
            "656\n",
            "666\n",
            "676\n",
            "686\n",
            "696\n",
            "707\n",
            "717\n",
            "727\n",
            "737\n",
            "747\n",
            "757\n",
            "767\n",
            "777\n",
            "787\n",
            "797\n",
            "808\n",
            "818\n",
            "828\n",
            "838\n",
            "848\n",
            "858\n",
            "868\n",
            "878\n",
            "888\n",
            "898\n",
            "909\n",
            "919\n",
            "929\n",
            "939\n",
            "949\n",
            "959\n",
            "969\n",
            "979\n",
            "989\n",
            "999\n"
          ],
          "name": "stdout"
        }
      ]
    },
    {
      "cell_type": "code",
      "metadata": {
        "colab_type": "code",
        "id": "Gvv6_3MkH3qD",
        "colab": {
          "base_uri": "https://localhost:8080/",
          "height": 122
        },
        "outputId": "5f212c89-3111-4253-88b0-5b6846f3c70a"
      },
      "source": [
        "print(\"amstrong numbers from 1 to 1000 are : \")\n",
        "for num in range(1,1000):\n",
        "  temp=num\n",
        "  sum=0\n",
        "  while temp>0:\n",
        "    rem=temp%10\n",
        "    sum=sum+(rem**3)\n",
        "    temp=temp//10\n",
        "  if num==sum:\n",
        "    print(num)"
      ],
      "execution_count": 65,
      "outputs": [
        {
          "output_type": "stream",
          "text": [
            "amstrong numbers from 1 to 1000 are : \n",
            "1\n",
            "153\n",
            "370\n",
            "371\n",
            "407\n"
          ],
          "name": "stdout"
        }
      ]
    },
    {
      "cell_type": "code",
      "metadata": {
        "id": "xyHzPXop-l3E",
        "colab_type": "code",
        "colab": {
          "base_uri": "https://localhost:8080/",
          "height": 1000
        },
        "outputId": "52cd6322-f70f-4bb2-d267-f9c96f38cb25"
      },
      "source": [
        "for num in range(1,100):\n",
        "  if num%3==0 and num%5==0:\n",
        "    print(\"fizz buzz\")\n",
        "  elif num%5==0:\n",
        "    print(\"Buzz\")\n",
        "  elif num%3==0:\n",
        "    print(\"Fizz\")\n",
        "  else:\n",
        "    print(num)"
      ],
      "execution_count": 32,
      "outputs": [
        {
          "output_type": "stream",
          "text": [
            "1\n",
            "2\n",
            "Fizz\n",
            "4\n",
            "Buzz\n",
            "Fizz\n",
            "7\n",
            "8\n",
            "Fizz\n",
            "Buzz\n",
            "11\n",
            "Fizz\n",
            "13\n",
            "14\n",
            "fizz buzz\n",
            "16\n",
            "17\n",
            "Fizz\n",
            "19\n",
            "Buzz\n",
            "Fizz\n",
            "22\n",
            "23\n",
            "Fizz\n",
            "Buzz\n",
            "26\n",
            "Fizz\n",
            "28\n",
            "29\n",
            "fizz buzz\n",
            "31\n",
            "32\n",
            "Fizz\n",
            "34\n",
            "Buzz\n",
            "Fizz\n",
            "37\n",
            "38\n",
            "Fizz\n",
            "Buzz\n",
            "41\n",
            "Fizz\n",
            "43\n",
            "44\n",
            "fizz buzz\n",
            "46\n",
            "47\n",
            "Fizz\n",
            "49\n",
            "Buzz\n",
            "Fizz\n",
            "52\n",
            "53\n",
            "Fizz\n",
            "Buzz\n",
            "56\n",
            "Fizz\n",
            "58\n",
            "59\n",
            "fizz buzz\n",
            "61\n",
            "62\n",
            "Fizz\n",
            "64\n",
            "Buzz\n",
            "Fizz\n",
            "67\n",
            "68\n",
            "Fizz\n",
            "Buzz\n",
            "71\n",
            "Fizz\n",
            "73\n",
            "74\n",
            "fizz buzz\n",
            "76\n",
            "77\n",
            "Fizz\n",
            "79\n",
            "Buzz\n",
            "Fizz\n",
            "82\n",
            "83\n",
            "Fizz\n",
            "Buzz\n",
            "86\n",
            "Fizz\n",
            "88\n",
            "89\n",
            "fizz buzz\n",
            "91\n",
            "92\n",
            "Fizz\n",
            "94\n",
            "Buzz\n",
            "Fizz\n",
            "97\n",
            "98\n",
            "Fizz\n"
          ],
          "name": "stdout"
        }
      ]
    },
    {
      "cell_type": "code",
      "metadata": {
        "id": "Nnew6T4vAPpL",
        "colab_type": "code",
        "colab": {
          "base_uri": "https://localhost:8080/",
          "height": 87
        },
        "outputId": "436613d4-326f-4d3b-ff9f-9006abc863a5"
      },
      "source": [
        "H=int(input(\"Enter height of the well : \"))\n",
        "U=int(input(\"Enter no of meters it climbs for each step : \"))\n",
        "D=int(input(\"Enter meters it slips down in each step : \"))\n",
        "count=1\n",
        "u=U\n",
        "while u<H:\n",
        "  u=u-D\n",
        "  count=count+1\n",
        "  u=u+U\n",
        "  if u==H:\n",
        "    count=count+1\n",
        "print(count)"
      ],
      "execution_count": 42,
      "outputs": [
        {
          "output_type": "stream",
          "text": [
            "Enter height of the well : 500\n",
            "Enter no of meters it climbs for each step : 20\n",
            "Enter meters it slips down in each step : 15\n",
            "98\n"
          ],
          "name": "stdout"
        }
      ]
    }
  ]
}